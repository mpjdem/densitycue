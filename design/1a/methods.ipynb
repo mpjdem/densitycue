{
 "metadata": {
  "name": "methods"
 },
 "nbformat": 3,
 "nbformat_minor": 0,
 "worksheets": [
  {
   "cells": [
    {
     "cell_type": "markdown",
     "metadata": {},
     "source": [
      "# Apparatus\n",
      "\n",
      "### Environment\n",
      "Dimly lit room  \n",
      "Chair adjustable in height  \n",
      "\n",
      "### Computer\n",
      "Dell Precision T3400  \n",
      "NVIDIA Quadro FX570  \n",
      "Windows XP SP3  \n",
      "Matlab R2009b (7.9)  \n",
      "PsychToolbox 3.0.9  \n",
      "\n",
      "### Screen\n",
      "* Type           : 22\" CRT color monitor (20\"/51cm viewable)\n",
      "* Model          : Iiyama Vision Master Pro 514 (HM204DT A)\n",
      "* Refresh rate   : 85 Hz\n",
      "* Resolution     : 1024x768 px\n",
      "* Distance       : 1000 mm\n",
      "* Size           : 406x304 mm\n",
      "* Max luminance  : 48.9 cd/m\u00b2"
     ]
    },
    {
     "cell_type": "code",
     "collapsed": false,
     "input": [
      "from math import atan, pi\n",
      "def compute_va(sz, dist):\n",
      "    return 2*atan(sz/(2*dist))*180/pi\n",
      "\n",
      "screen_distance = 1000.0\n",
      "screen_h_mm = 406.0\n",
      "screen_v_mm = 304.0\n",
      "screen_h_px = 1024.0\n",
      "screen_v_px = 768.0\n",
      "\n",
      "screen_h_deg = compute_va(screen_h_mm,screen_distance)\n",
      "screen_v_deg = compute_va(screen_v_mm,screen_distance)\n",
      "print \"Apparent screen size: \", screen_h_deg, 'by', screen_v_deg, \"visual degrees\""
     ],
     "language": "python",
     "metadata": {},
     "outputs": [
      {
       "output_type": "stream",
       "stream": "stdout",
       "text": [
        "Apparent screen size:  22.9502260135 by 17.28560516 visual degrees\n"
       ]
      }
     ],
     "prompt_number": 2
    },
    {
     "cell_type": "markdown",
     "metadata": {},
     "source": [
      "### Peripherals  \n",
      "Chinrest adjustable in height  \n",
      "Two analog response buttons of the 'breaker' type, connected to the parallel port of the computer  \n",
      "\n",
      "### Accuracy\n",
      "#### Temporal (response)\n",
      "Analog breaker on parallel port was read in through the MATLAB function `digitalio` and checked continuously in a MATLAB loop (see /experiment/1a/wait_for_breaker.m). Time measurements were obtained through the PsychToolbox function `GetSecs`, which relies on the high-precision Windows API function `QueryPerformanceCounter`. No rounding was done. Timings are relative to the end of the blank screen flip + some possible overhead due to MATLAB code and processes.\n",
      "\n",
      "<br>\n",
      "#### Temporal (screen)\n",
      "Data obtained through the **`Screen('GetFlipInterval')`** function (see /experiment/1a/main_exp.m), at the start of every session for every subject. 50 measurements each.\n",
      "This confirmed that the actual average framerate was very close to the intended framerate (within 0.01 Hz) on every session.\n",
      "\n",
      "Data obtained through the **`Screen('Flip')`** function during actual presentation (see /experiment/1a/main_exp.m), based on the time of the first scanline of stimulus onset. What typically happens is this: Screen tells the system when to return control. As the moment arrives, the buffer flip takes place, and Screen is in control. Actual complete stimulus onset (tracing the first line) won't happen until the scanbeam has reached the top of the screen again. Therefore a 1 frame delay is to be expected in this measurement.\n",
      "\n",
      "* Fixation duration is not synced to the framerate, and therefore typically has a uniformly variable delay between 0 and 1 frame duration\n",
      "* The others are synced, and therefore typically have to wait for a whole frame duration for the scanbeam to reach the top\n",
      "\n",
      "Only on 32/51200 trials did the delay on any interval exceed 2 frames (24 ms) and only on 5/51200 trials 5 frames (59 ms).\n",
      "  \n",
      "<br>  \n",
      "#### Spatial  \n",
      "The geometry of screen was set to be correct through the screen controls. Other than that no special precautions were taken.\n",
      "  \n",
      "<br>  \n",
      "#### Luminance \n",
      "Using a Konica Minolta CS-100 handheld luminance meter, 15 grayscale luminance levels from 0 to 255 were measured in cd/m\u00b2. This was done once, before any subjects were tested. A power function with intercept 0 was fitted, and the inverse of this function was then used to linearize images during the experiment (see /experiment/1a/make_lut_sa.m, /experiment/1a/lut.mat and /experiment/1a/apply_lut.m). The full luminance range of the monitor remained available (8 bit, 0-255).\n",
      "\n",
      "In the plot below the measurements and the power function fit are shown. The formula, where x is theoretical luminance normalized to a 0-1 range, and y the luminance measurement similarly normalized: $$y = x^c$$"
     ]
    },
    {
     "cell_type": "code",
     "collapsed": false,
     "input": [
      "import numpy as np\n",
      "import matplotlib.pyplot as plt\n",
      "\n",
      "maxlum = 48.9\n",
      "lums_th_norm = np.array([0, 0.0706, 0.1412, 0.2157, 0.2863, 0.3569, 0.4275, 0.5020, 0.5725, 0.6431, 0.7137, 0.7843, 0.8588, 0.9294, 1.0000])\n",
      "lums_val_norm = np.array([0, 0, 0, 0.0004, 0.0047, 0.0209, 0.0512, 0.1059, 0.1743, 0.2645, 0.3690, 0.4858, 0.6661, 0.8279, 1.0000])\n",
      "c = 3.0157\n",
      "\n",
      "plt.plot(lums_th_norm*255, lums_val_norm*maxlum, 'ko')\n",
      "line_x = np.linspace(0,1,100)\n",
      "plt.plot(line_x*255, maxlum*(line_x**c),'r-')\n",
      "plt.xlabel('Theoretical luminance (0-255)')\n",
      "plt.ylabel('Actual luminance (cd/m2)')\n",
      "plt.show()"
     ],
     "language": "python",
     "metadata": {},
     "outputs": [
      {
       "output_type": "display_data",
       "png": "[encoded data removed]"
      }
     ],
     "prompt_number": 5
    },
    {
     "cell_type": "markdown",
     "metadata": {},
     "source": [
      "# Subjects\n",
      "### Type\n",
      "Population:  Normal, adult  \n",
      "Eyesight: Normal or corrected-to-normal  \n",
      "\n",
      "### Ethical approval\n",
      "Commission: Medische Ethiek KU Leuven  \n",
      "Number: ML8518\n",
      "Informed consent: Obtained from each naive subject\n",
      "\n",
      "### Recruitment\n",
      "Authors: MD, BM  \n",
      "Not naive: ES (master thesis student)  \n",
      "Naive: Goal of 5, personal recruitment by ES  \n",
      "Payment (naive only): 10 euro/hour  \n",
      "Experimenter for naive subjects: ES"
     ]
    },
    {
     "cell_type": "markdown",
     "metadata": {},
     "source": [
      "# Instructions\n",
      "Before the start of the first session, participants were given instructions (in Dutch) on paper, including example stimuli."
     ]
    },
    {
     "cell_type": "markdown",
     "metadata": {},
     "source": [
      "# Experiment structure\n",
      "\n",
      "The experiment was programmed and run entirely in MATLAB, using PsychToolbox:\n",
      "http://psychtoolbox.org\n",
      "\n",
      "GERT was not used during the experiment, all stimuli were pre-generated and loaded from MAT-files.\n",
      "\n",
      "First, **practice trials**.\n",
      "Practice gradually increased the difficulty. All conditions were mixed, but the first two blocks only contained levels 1-2 of contour density. The next two blocks levels 1-4, and the final 2 blocks all levels, 1- 8. Blocks were only 48 trials long, for a total of 240 trials. Conditions were counter-balanced across all blocks. Also, fixation duration was longer, between 0.5 and 1 second instead of between 0.2 and 0.4.\n",
      "\n",
      "Then, the **main experiment**. A 2x2x2 design was used:  \n",
      "* OPEN versus CLOSED contours  \n",
      "* EQUIDISTANT versus RANDOM contour element placement  \n",
      "* HIGH versus LOW display density  \n",
      "\n",
      "For each of these conditions, an 8-point psychometric curve was measured, manipulating the contour element density.  \n",
      "Condition order was randomized on a trial-by-trial basis.\n",
      "Subjects could pause every 100 trials, and could determine the length of the pause themselves.  \n",
      "Each session ended after 800 trials, which took about 1 hour including short pauses.\n",
      "\n",
      "Summarizing:  \n",
      "* Trials per data point: 100  \n",
      "* Data points per curve: 8  \n",
      "* Curves (conditions) per subject: 8  \n",
      "* Total N per subject: 6400  \n",
      "* Block length: 100  \n",
      "* Session length: 800 (1 hour)  \n",
      "* Number of sessions per subject: 8  "
     ]
    },
    {
     "cell_type": "markdown",
     "metadata": {},
     "source": [
      "# Stimuli\n",
      "\n",
      "### Software\n",
      "Stimuli were created using GERT v1.11 under Matlab 7.9 and Windows XP SP3  \n",
      "GERT can be found at: http://www.gestaltrevision.be/GERT\n",
      "\n",
      "### Size\n",
      "512 by 512 pixels"
     ]
    },
    {
     "cell_type": "code",
     "collapsed": false,
     "input": [
      "stim_sz_px = 512.0\n",
      "mm_per_px = screen_h_mm/screen_h_px\n",
      "stim_sz_mm = stim_sz_px * mm_per_px\n",
      "visual_angle = compute_va(stim_sz_mm,screen_distance)\n",
      "print 'Apparent stimulus size: ', visual_angle, 'degrees'"
     ],
     "language": "python",
     "metadata": {},
     "outputs": [
      {
       "output_type": "stream",
       "stream": "stdout",
       "text": [
        "Apparent stimulus size:  11.5913463623 degrees\n"
       ]
      }
     ],
     "prompt_number": 5
    },
    {
     "cell_type": "markdown",
     "metadata": {},
     "source": [
      "### Other properties\n",
      "The stimulus generation script can be found in `/experiment/1a/generate_stimuli.m`, and logs of stimulus creation can be found in the `/experiment/1a/stims` directory\n",
      "\n",
      "RFP stimuli consisted of 4 components, with frequencies randomly drawn from 2-6. Phases and rotation were random, and amplitudes between 7.5 and 12.5, on a base radius of 100 pixels. For open contours, a proportion of 0.4 of the full RFP was used, at a random location.\n",
      "\n",
      "Elements were placed with the following parameters:\n",
      "* Low background: 23.5 (minimal Euclidean distance until the display is full)  \n",
      "* Low random contour: 16.0000   17.2857   18.5714   19.8571   21.1429   22.4286   23.7143   25.0000 (minimal Euclidean distance until contour is full)  \n",
      "* Low equidistant contour: 19.0000   20.2143   21.4286   22.6429   23.8571   25.0714   26.2857   27.5000 (distance along the contour)  \n",
      "* High background: 16.5  \n",
      "* High random contour: 11.0000   11.9286   12.8571   13.7857   14.7143   15.6429   16.5714   17.5000  \n",
      "* High equidistant background: 14.0000   14.8571   15.7143   16.5714   17.4286   18.2857   19.1429   20.0000  \n",
      " \n",
      "A border distance equal to the minimal background distance was used. The center of the RFP contour was always moved to the exact center of the display.  \n",
      "\n",
      "Radial Gabors were drawn on a gray background (0.5 luminance) using the following formula. If A is the amplitude, PHI is the phase, OMEGA is the frequency, d is the distance from the center for a given (x,y) coordinate and S is the standard deviation:\n",
      "\n",
      "$$lum = A.cos(\\phi + \\omega\\sqrt{d}).\\mathrm{e}^{-\\frac{d\\sigma^2}{2}}$$\n",
      "\n",
      "We used the following parameters:  \n",
      "* A: 1  \n",
      "* PHI: 0  \n",
      "* SIGMA: 2.5  \n",
      "* OMEGA: 0.1  \n",
      "\n",
      "Alle radial elements were identical, with a maximal luminance of 1 and a minimal luminance of 0.387. Individual element patches were 21 x 21 pixels large, blended together by a maximal difference from background rule on a pixel-by-pixel basis during the display construction.  \n",
      "\n",
      "Distractor stimuli were created by just filling up an empty display with the same background density parameters as used in the target displays (high versus low density). Masks were created by scrambling each distractor image according to a von Mises distribution (`vm_phase_scrambling.m`).  \n",
      "\n",
      "For each condition, 50 different stimuli were created. This results in:  \n",
      "* 2x2x2x8x50 = 3200 target stimuli  \n",
      "* 2x50 = 100 distractor stimuli (high/low density)  \n",
      "* 2x50 = 100 mask stimuli (high/low density)\n",
      "\n",
      "When presenting these stimuli in the experiment, they were first transformed on the fly using a power function, to linearize luminances (`apply_lut` function)."
     ]
    },
    {
     "cell_type": "markdown",
     "metadata": {},
     "source": [
      "# Trial Procedure\n",
      "\n",
      "The following events take place in one trial:  \n",
      "* 200ms pause  \n",
      "* (Preloading of images)   \n",
      "* 200-400ms of fixation dot (white, radius of 5 pixels), randomly determined on each trial  \n",
      "* 30 frames (353ms) of mask  \n",
      "* 21 frames (247ms) of s1  \n",
      "* 30 frames of mask  \n",
      "* 21 frames of s2  \n",
      "* 30 frames of mask  \n",
      "* Blank screen until response (maximally 1000 ms)  \n",
      "\n",
      "Three different masks were selected, with equal background density as the targets. The order of target and distractor was randomly assigned to S1 and S2 on each trial, as was the stimulus set number. Distractor set number was independent of target set number. Set numbers are saved in the `dat.stimseq` variable.\n",
      "\n",
      "Two very brief sine-wave sounds of slightly different frequencies accompanied S1 and S2, the second one lower than the first, to help the subject with pacing.\n",
      "\n",
      "In case of a late response, multiple simultaneous keypresses, wrong or otherwise invalid response, a low sine-wave sound was played. In case of a correct response, a higher sine-wave sound was played. This was the auditory feedback for the subject. If the response was invalid, a message was displayed on the screen, and a keypress was required. If it was just wrong, only the sound was played. The next trial then started automatically.\n",
      "\n",
      "Left breaker corresponded to 'target in first interval', right breaker to 'target in second interval'. \n"
     ]
    },
    {
     "cell_type": "markdown",
     "metadata": {},
     "source": [
      "# Analysis\n",
      "\n",
      "Trials without a correct response were excluded from the dataset (354/51200 trials). All others were used.  \n",
      "\n",
      "More details in the manuscript."
     ]
    },
    {
     "cell_type": "markdown",
     "metadata": {},
     "source": [
      "# Power\n",
      "\n",
      "### Sample size\n",
      "8 participants  \n",
      "64 conditions  \n",
      "6400 trials per participant  \n",
      "100 trials per data point  \n",
      "50 different stimuli per condition\n",
      "\n",
      "### Effect size\n",
      "We have no need for effects between the 8 display type conditions, nor any specific predictions. The contour density levels were based on a pilot experiment with MD, BM and ES, to choose informative stimuli and cover the whole range of 50% to 100% correct.\n",
      "\n",
      "With regard to performance of metrics either by themselves or in explaining human data, we do hope to identify one superior method, but do not have a specific expectation as to the effect size. Likely the difference between AvgDist and Voronoi will be smaller than between these two and RadCount, since they are more similar in their underlying computations.\n",
      "\n",
      "### Power analysis\n",
      "\n",
      "Since we do not have an expectation of effect size, we cannot compute statistical power. However 800 trials per psychometric curve and 51200 trials in total is a large dataset.\n"
     ]
    }
   ],
   "metadata": {}
  }
 ]
}