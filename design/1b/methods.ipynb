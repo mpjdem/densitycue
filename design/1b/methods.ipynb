{
 "metadata": {
  "name": "methods"
 },
 "nbformat": 3,
 "nbformat_minor": 0,
 "worksheets": [
  {
   "cells": [
    {
     "cell_type": "markdown",
     "metadata": {},
     "source": [
      "Where not specified, identical to Experiment 1a\n",
      "\n",
      "# Apparatus\n",
      "### Environment\n",
      "### Computer\n",
      "### Screen\n",
      "### Peripherals   \n",
      "### Accuracy\n",
      "#### Temporal (response)\n",
      "#### Temporal (screen)\n",
      "#### Spatial    \n",
      "#### Luminance \n"
     ]
    },
    {
     "cell_type": "markdown",
     "metadata": {},
     "source": [
      "# Subjects\n",
      "### Type \n",
      "### Ethical approval\n",
      "\n",
      "### Recruitment\n",
      "The subjects of Experiment 1a were asked to come back for an extra session, shortly after their completing of the first 8 sessions.\n",
      "\n",
      "### Result of recruitment\n",
      "One subject was unavailable. Possibly subject ES will have missing data as well.\n"
     ]
    },
    {
     "cell_type": "markdown",
     "metadata": {},
     "source": [
      "# Instructions\n",
      "Because subjects were familiar with the experiment already, no detailed instructions were given, except that the contour would now always be LESS dense than the background."
     ]
    },
    {
     "cell_type": "markdown",
     "metadata": {},
     "source": [
      "# Experiment structure\n",
      "\n",
      "The only difference with Experiment 1a is the lack of a practice session (since subjects had experience already with the experiment), and the use of only one contour density level.\n",
      "\n",
      "As a result, the experiment took only 1 hour (800 trials). It yielded a single datapoint per condition whereas Experiment 1a had yielded 8 datapoints forming a curve."
     ]
    },
    {
     "cell_type": "markdown",
     "metadata": {},
     "source": [
      "# Stimuli\n",
      "New stimuli were generated, again 50 sets, including new distractors and masks.\n",
      "\n",
      "### Software\n",
      "### Size\n",
      "### Other properties\n",
      "The contour densities used were as follows:  \n",
      "* Low random contour: 29.75  \n",
      "* Low equidistant contour: 31.75  \n",
      "* High random contour: 20.75  \n",
      "* High equidistant background: 23  "
     ]
    },
    {
     "cell_type": "markdown",
     "metadata": {},
     "source": [
      "# Trial Procedure"
     ]
    },
    {
     "cell_type": "markdown",
     "metadata": {},
     "source": [
      "# Analysis \n",
      "### Raw data"
     ]
    },
    {
     "cell_type": "markdown",
     "metadata": {},
     "source": [
      "# Power\n",
      "\n",
      "### Sample size\n",
      "6 participants  \n",
      "8 conditions  \n",
      "800 trials per participant  \n",
      "100 trials per data point  \n",
      "50 different stimuli per condition\n",
      "\n",
      "### Effect size\n",
      "We would expect a null-effect between the different conditions, and a null-difference with chance performance (0.5).\n",
      "\n",
      "### Power analysis\n",
      "Taking maximal binomial variability (at 50%), no difference between conditions and no variability in average performance across subjects, we will detect any overal true effect larger than 51% with a one-tailed test at an alpha-level of 0.05 (z=1.645). Which I believe also corresponds to a 95% power to detect a 1% difference from chance."
     ]
    },
    {
     "cell_type": "code",
     "collapsed": false,
     "input": [
      "p = 0.5\n",
      "n = 800\n",
      "np = 8\n",
      "z = 1.645\n",
      "se = sqrt(p*(1-p)/n)\n",
      "se_pp = se/sqrt(np)\n",
      "print se_pp*z"
     ],
     "language": "python",
     "metadata": {},
     "outputs": [
      {
       "output_type": "stream",
       "stream": "stdout",
       "text": [
        "0.01028125\n"
       ]
      }
     ],
     "prompt_number": 33
    }
   ],
   "metadata": {}
  }
 ]
}